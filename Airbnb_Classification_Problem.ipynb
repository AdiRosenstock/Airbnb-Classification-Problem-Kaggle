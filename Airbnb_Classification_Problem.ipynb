{
 "cells": [
  {
   "cell_type": "raw",
   "id": "5dbbea0e-3a99-459e-abd6-0959e6946869",
   "metadata": {
    "vscode": {
     "languageId": "raw"
    }
   },
   "source": [
    "---\n",
    "title: \"Prediction Problem\"\n",
    "subtitle: \"STAT 303-3\"\n",
    "format: \n",
    "  html:\n",
    "    toc: true\n",
    "    toc-title: Contents\n",
    "    code-fold: show\n",
    "    embed-resources: true\n",
    "jupyter: python3\n",
    "---"
   ]
  },
  {
   "cell_type": "markdown",
   "id": "03031cca-1a24-4e66-926e-2b32f85f3cc7",
   "metadata": {},
   "source": [
    "## 1) Libraries"
   ]
  },
  {
   "cell_type": "code",
   "execution_count": null,
   "id": "9eb866b1-8f62-4ca4-a39e-5774486da357",
   "metadata": {},
   "outputs": [],
   "source": [
    "# Importing Libraries\n",
    "\n",
    "!pip install catboost\n",
    "import pandas as pd\n",
    "import numpy as np\n",
    "from sklearn.model_selection import GridSearchCV, StratifiedKFold\n",
    "from catboost import CatBoostClassifier"
   ]
  },
  {
   "cell_type": "markdown",
   "id": "1877d116-1e8d-426e-84ba-10c47e28a1ac",
   "metadata": {},
   "source": [
    "## 2) Data"
   ]
  },
  {
   "cell_type": "code",
   "execution_count": null,
   "id": "a35deabf",
   "metadata": {},
   "outputs": [],
   "source": [
    "# Reading the data\n",
    "train = pd.read_csv(\"train_clas.csv\")\n",
    "test = pd.read_csv(\"test_clas.csv\")"
   ]
  },
  {
   "cell_type": "code",
   "execution_count": null,
   "id": "4a05a0ae",
   "metadata": {},
   "outputs": [],
   "source": [
    "# Target\n",
    "y_train = train[\"host_is_superhost\"]\n",
    "\n",
    "# Dropping features\n",
    "X_train = train.drop(columns=[\"id\", \"host_is_superhost\",\"description\",\"host_about\"])\n",
    "X_test = test.drop(columns=[\"id\",\"description\",\"host_about\"])"
   ]
  },
  {
   "cell_type": "code",
   "execution_count": null,
   "id": "2a82016c",
   "metadata": {},
   "outputs": [],
   "source": [
    "# Cleaning the data\n",
    "for col in ['host_response_rate', 'host_acceptance_rate']:\n",
    "    X_train[col] = X_train[col].str.rstrip('%').astype(float)\n",
    "    X_test[col] = X_test[col].str.rstrip('%').astype(float)\n",
    "    \n",
    "def extract_bathroom_count(x):\n",
    "    try:\n",
    "        return float(x.split(' ')[0])\n",
    "    except:\n",
    "        return None\n",
    "\n",
    "X_train['bathrooms_text'] = X_train['bathrooms_text'].apply(extract_bathroom_count)\n",
    "X_test['bathrooms_text'] = X_test['bathrooms_text'].apply(extract_bathroom_count)"
   ]
  },
  {
   "cell_type": "code",
   "execution_count": null,
   "id": "87da8f33",
   "metadata": {},
   "outputs": [],
   "source": [
    "# Filling missing data\n",
    "\n",
    "# Numerical features\n",
    "num_cols = X_train.select_dtypes(include='number').columns\n",
    "\n",
    "for col in num_cols:\n",
    "    X_train[col] = X_train[col].fillna(X_train[col].mean())\n",
    "    X_test[col] = X_test[col].fillna(X_train[col].mean())\n",
    "\n",
    "# Categorical features\n",
    "cat_features = X_train.select_dtypes(exclude='number').columns.tolist()\n",
    "\n",
    "for col in cat_features:\n",
    "    X_train[col] = X_train[col].astype(str).fillna(\"missing\")\n",
    "    X_test[col] = X_test[col].astype(str).fillna(\"missing\")\n",
    "\n",
    "# used for fitting the model\n",
    "cat_feature_indices = [X_train.columns.get_loc(col) for col in cat_features]"
   ]
  },
  {
   "cell_type": "markdown",
   "id": "1078e4fa-9a22-44ca-b1e3-944f25dac70a",
   "metadata": {},
   "source": [
    "## 3) Machine Learning Model"
   ]
  },
  {
   "cell_type": "code",
   "execution_count": null,
   "id": "80ccfd51-090e-4685-a4fc-d26c8fbe12d5",
   "metadata": {},
   "outputs": [],
   "source": [
    "# Training and fitting the model\n",
    "model = CatBoostClassifier(\n",
    "    random_state = 1,\n",
    "    n_estimators = 500, \n",
    "    learning_rate = 0.05,\n",
    "    max_depth = 8,\n",
    "    subsample = 0.75,\n",
    "    reg_lambda = 1,\n",
    "    verbose = False,\n",
    "    scale_pos_weight= 5,\n",
    "    thread_count = 1\n",
    ")\n",
    "\n",
    "model.fit(X_train, y_train, cat_features=cat_feature_indices)\n",
    "\n",
    "test_probs = model.predict_proba(X_test)[:, 1]"
   ]
  },
  {
   "cell_type": "markdown",
   "id": "2dc2d1c1-edd2-428c-9944-2bafc8f9291b",
   "metadata": {},
   "source": [
    "## 4) Exporting the Predictions"
   ]
  },
  {
   "cell_type": "code",
   "execution_count": null,
   "id": "e1f881e2-bccf-49e3-aa6c-ff4381883031",
   "metadata": {},
   "outputs": [],
   "source": [
    "# Creating the submission file\n",
    "submission_classification = pd.DataFrame({'id': test['id'],'predicted': test_probs})\n",
    "submission_classification.to_csv('submission_classification.csv', index=False)"
   ]
  }
 ],
 "metadata": {
  "kernelspec": {
   "display_name": "Python (base)",
   "language": "python",
   "name": "base"
  },
  "language_info": {
   "codemirror_mode": {
    "name": "ipython",
    "version": 3
   },
   "file_extension": ".py",
   "mimetype": "text/x-python",
   "name": "python",
   "nbconvert_exporter": "python",
   "pygments_lexer": "ipython3",
   "version": "3.11.8"
  }
 },
 "nbformat": 4,
 "nbformat_minor": 5
}
